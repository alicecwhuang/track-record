{
 "cells": [
  {
   "cell_type": "code",
   "execution_count": 1,
   "id": "721f0ce8",
   "metadata": {},
   "outputs": [],
   "source": [
    "from mesa import Agent, Model\n",
    "from mesa.time import SimultaneousActivation\n",
    "from mesa.datacollection import DataCollector\n",
    "import random\n",
    "import numpy as np\n",
    "import pandas as pd\n",
    "import networkx as nx\n",
    "import scipy.stats"
   ]
  },
  {
   "cell_type": "markdown",
   "id": "75997e4b",
   "metadata": {},
   "source": [
    "## The Agents"
   ]
  },
  {
   "cell_type": "code",
   "execution_count": 6,
   "id": "a5e980a1",
   "metadata": {},
   "outputs": [],
   "source": [
    "class TRScientist(Agent):\n",
    "    def __init__(self, unique_id, model):\n",
    "        super().__init__(unique_id, model)\n",
    "        self.record = [] # Track record\n",
    "        self.m = round(random.uniform(0.05, 0.5), 2) # Open-mindedness\n",
    "        self.model = model\n",
    "        self.unique_id = unique_id\n",
    "        self.hyp = np.round(np.arange(0, 1.001, 1/5), 2)\n",
    "        self.cred = np.round(np.full(len(self.hyp), 1/len(self.hyp)), 2) # Credence for each hyp\n",
    "        self.noise = random.uniform(0.001, 0.2) # equivalent to sigma in paper\n",
    "        self.c = round(random.random(), 2) # weight for evidence vs testimony\n",
    "        self.neighbors = [] # trusted informants\n",
    "        self.social = None \n",
    "        self.evidential = None\n",
    "        self.pr = 0\n",
    "        self.ev = 0\n",
    "        self.id = 0\n",
    "        self.hub = 0\n",
    "        self.authority = 0\n",
    "        self.Brier = [] # Prediction at previous time step against new toss\n",
    "        self.BrierT = None # Cred against truth (God's eye view)\n",
    "        self.crps = None\n",
    "    def __hash__(self):\n",
    "        return hash((self.model, self.unique_id))\n",
    "    def __eq__(self, other):\n",
    "        return (self.model, self.unique_id) == (other.model, other.unique_id)\n",
    "    def r_avg(self):\n",
    "        if len(self.record) > 0:\n",
    "            # Mean Brier so far for toss predictions\n",
    "            return round(sum(self.record)/len(self.record), 4)\n",
    "        else:\n",
    "            return 1\n",
    "    def update_social(self):\n",
    "        self.social = np.round(sum([a.cred for a in self.neighbors])/len(self.neighbors), 4)\n",
    "    def update_evidence(self):\n",
    "        toss = np.random.binomial(1, self.model.truth)\n",
    "        self.Brier.append(round((toss - sum(self.cred*self.hyp))**2, 4)) # Cred at previous time step against new toss\n",
    "        Pr_E_H = np.absolute((1-toss)-self.hyp)\n",
    "        posterior = Pr_E_H*self.cred/np.sum(self.cred*Pr_E_H)\n",
    "        loc = posterior\n",
    "        scale = self.noise\n",
    "        # No neg credence\n",
    "        noisy = scipy.stats.truncnorm.rvs((0.0001-loc)/scale, (9.9999-loc)/scale, loc=loc, scale=scale)\n",
    "        # Normalize\n",
    "        self.evidential = noisy/sum(noisy)\n",
    "    def update_neighbors(self):\n",
    "        n = round(len(self.model.schedule.agents)*self.m)\n",
    "        if n < 1:\n",
    "            # Agent does not trust anyone\n",
    "            self.neighbors = [self]\n",
    "        elif len(self.record) == 0:\n",
    "            # No track records yet\n",
    "            self.neighbors = random.sample(self.model.schedule.agents, n)\n",
    "        else:\n",
    "            # Choose best performing peers so far\n",
    "            temp = []\n",
    "            ls = self.model.schedule.agents\n",
    "            random.shuffle(ls)\n",
    "            for a in sorted(ls, key=lambda x: x.r_avg())[:n]:\n",
    "                if a.r_avg() > self.r_avg():\n",
    "                    break\n",
    "                else:\n",
    "                    temp.append(a)\n",
    "            if len(temp) < 1:\n",
    "                temp.append(self)\n",
    "            self.neighbors = temp\n",
    "    def step(self):\n",
    "        self.update_evidence()\n",
    "        self.update_neighbors()\n",
    "        self.update_social()\n",
    "    def advance(self):\n",
    "        # linear combination of social and evidential components\n",
    "        new_cred = np.round((1-self.c)*self.social + self.c*self.evidential, 2) \n",
    "        self.cred = new_cred\n",
    "        # calculate inaccuracy\n",
    "        t = np.zeros((len(self.hyp),)) \n",
    "        t[int(self.model.truth*5)] = 1 # array of truth value for each hypothesis\n",
    "        self.BrierT = round(sum((self.cred-t)**2), 4)\n",
    "        self.crps = crps(self.cred, self.model.truth)"
   ]
  },
  {
   "cell_type": "code",
   "execution_count": 7,
   "id": "93c42896-5494-4ac0-84c3-66b3e4f9429e",
   "metadata": {},
   "outputs": [],
   "source": [
    "class RandomScientist(TRScientist):\n",
    "    def __init__(self, unique_id, model):\n",
    "        super().__init__(unique_id, model)\n",
    "    def update_neighbors(self):\n",
    "        n = round(len(self.model.schedule.agents)*self.m)\n",
    "        if n < 1:\n",
    "            self.neighbors = [self]\n",
    "        else:\n",
    "            self.neighbors = random.sample(self.model.schedule.agents, n)"
   ]
  },
  {
   "cell_type": "code",
   "execution_count": 8,
   "id": "c53d5578",
   "metadata": {},
   "outputs": [],
   "source": [
    "class PatientScientist(TRScientist):\n",
    "    def __init__(self, unique_id, model):\n",
    "        super().__init__(unique_id, model)\n",
    "        self.c = 1"
   ]
  },
  {
   "cell_type": "code",
   "execution_count": 9,
   "id": "1c000203",
   "metadata": {},
   "outputs": [],
   "source": [
    "def Euclidean(x, y):\n",
    "    return sum((x-y)**2)"
   ]
  },
  {
   "cell_type": "code",
   "execution_count": 10,
   "id": "09b15052",
   "metadata": {},
   "outputs": [],
   "source": [
    "def crps(cred, truth):\n",
    "    penalty = 0\n",
    "    for i in range(len(cred)):\n",
    "        if i<(truth*5):\n",
    "            penalty += (sum(cred[:i+1])-0)**2\n",
    "        else:\n",
    "            penalty += (sum(cred[:i+1])-1)**2\n",
    "    return(round(penalty, 4))"
   ]
  },
  {
   "cell_type": "markdown",
   "id": "b17ac475",
   "metadata": {},
   "source": [
    "## The Model"
   ]
  },
  {
   "cell_type": "code",
   "execution_count": 11,
   "id": "f866a3df",
   "metadata": {},
   "outputs": [],
   "source": [
    "class TRModel(Model):\n",
    "    def __init__(self, truth, feedback_rate):\n",
    "        self.truth = truth\n",
    "        self.schedule = SimultaneousActivation(self)\n",
    "        self.fbr = feedback_rate # How often are track records public? Always 1 in current model.\n",
    "        self.schedule = SimultaneousActivation(self)\n",
    "        for i in range(30):\n",
    "            self.schedule.add(TRScientist(i, self))\n",
    "        self.datacollector = DataCollector(\n",
    "            agent_reporters={\"pr\": \"pr\", \"ev\": \"ev\",\n",
    "                             \"id\": \"id\", \"hub\": \"hub\", \"authority\": \"authority\",\n",
    "                             \"Brier\": \"Brier\", \"BrierT\": \"BrierT\", \"crps\": \"crps\",\n",
    "                             \"neighbors\": get_neighbors, \n",
    "                             \"c\": \"c\", \"m\": \"m\", \"noise\": \"noise\",\n",
    "                             \"cred\": \"cred\", \"social\": \"social\", \"evidential\": \"evidential\"},\n",
    "            model_reporters={\"truth\": \"truth\"})\n",
    "    def centrality(self):\n",
    "        G = nx.DiGraph()\n",
    "        for a in self.schedule.agents:\n",
    "            G.add_node(a)\n",
    "            for n in a.neighbors:\n",
    "                if a != n:\n",
    "                    G.add_edge(a, n)\n",
    "        idc = nx.in_degree_centrality(G)\n",
    "        evc = nx.eigenvector_centrality_numpy(G)\n",
    "        pr = nx.pagerank(G)\n",
    "        hub, authority = nx.hits(G)\n",
    "        for a in self.schedule.agents:\n",
    "            a.pr = round(pr[a], 4)\n",
    "            a.ev = round(evc[a], 4)\n",
    "            a.id = round(idc[a], 4)\n",
    "            a.hub = round(hub[a], 4)\n",
    "            a.authority = round(authority[a], 4)\n",
    "    def step(self):\n",
    "        self.schedule.step()\n",
    "        if np.random.binomial(1, self.fbr):\n",
    "            for a in self.schedule.agents:\n",
    "                a.record.append(a.Brier[-1])\n",
    "        self.centrality()\n",
    "        self.datacollector.collect(self)"
   ]
  },
  {
   "cell_type": "code",
   "execution_count": 12,
   "id": "12b4f9e0-197c-42c2-a4f3-46946875fc99",
   "metadata": {},
   "outputs": [],
   "source": [
    "class RandomModel(TRModel):\n",
    "    def __init__(self, truth, feedback_rate):\n",
    "        super().__init__(truth, feedback_rate)\n",
    "        self.schedule = SimultaneousActivation(self)\n",
    "        for i in range(15):\n",
    "            self.schedule.add(TRScientist(i, self))\n",
    "        for i in range(15, 30):\n",
    "            self.schedule.add(RandomScientist(i, self))\n",
    "        self.datacollector = DataCollector(\n",
    "            agent_reporters={\"pr\": \"pr\", \"ev\": \"ev\", \n",
    "                             \"id\": \"id\", \"hub\": \"hub\", \"authority\": \"authority\",\n",
    "                             \"Brier\": \"Brier\", \"BrierT\": \"BrierT\", \"crps\": \"crps\",\n",
    "                             \"neighbors\": get_neighbors, \n",
    "                             \"c\": \"c\", \"m\": \"m\", \"noise\": \"noise\",\n",
    "                             \"cred\": \"cred\", \"social\": \"social\", \"evidential\": \"evidential\"},\n",
    "            model_reporters={\"truth\": \"truth\"})"
   ]
  },
  {
   "cell_type": "code",
   "execution_count": 13,
   "id": "79c33f0a",
   "metadata": {},
   "outputs": [],
   "source": [
    "class PatientModel(TRModel):\n",
    "    def __init__(self, truth, feedback_rate):\n",
    "        super().__init__(truth, feedback_rate)\n",
    "        self.schedule = SimultaneousActivation(self)\n",
    "        for i in range(30):\n",
    "            self.schedule.add(PatientScientist(i, self))\n",
    "        self.datacollector = DataCollector(\n",
    "            agent_reporters={\"pr\": \"pr\", \"ev\": \"ev\", \n",
    "                             \"id\": \"id\", \"hub\": \"hub\", \"authority\": \"authority\",\n",
    "                             \"Brier\": \"Brier\", \"BrierT\": \"BrierT\", \"crps\": \"crps\",\n",
    "                             \"neighbors\": get_neighbors, \n",
    "                             \"c\": \"c\", \"m\": \"m\", \"noise\": \"noise\",\n",
    "                             \"cred\": \"cred\", \"social\": \"social\", \"evidential\": \"evidential\"},\n",
    "            model_reporters={\"truth\": \"truth\"})\n",
    "    def activate(self):\n",
    "        for a in self.schedule.agents:\n",
    "            a.c = round(random.random(), 2)"
   ]
  },
  {
   "cell_type": "code",
   "execution_count": 14,
   "id": "7ec60cc7",
   "metadata": {},
   "outputs": [],
   "source": [
    "def get_neighbors(agent):\n",
    "    return [a.unique_id for a in agent.neighbors]"
   ]
  },
  {
   "cell_type": "markdown",
   "id": "2ab389ea",
   "metadata": {},
   "source": [
    "## Run Simulation"
   ]
  },
  {
   "cell_type": "markdown",
   "id": "2c186d1d-72fc-43e5-865a-e132c8b9c045",
   "metadata": {},
   "source": [
    "#### Baseline, original, less-monopoly"
   ]
  },
  {
   "cell_type": "code",
   "execution_count": 21,
   "id": "2aaf4c0f",
   "metadata": {},
   "outputs": [],
   "source": [
    "main = pd.DataFrame()\n",
    "\n",
    "for run in range(1):\n",
    "    t = random.choice(np.round(np.arange(0, 1.001, 1/5), 2))\n",
    "    f = 1\n",
    "    m = RandomModel(t, f)\n",
    "    for i in range(100):\n",
    "        m.step()\n",
    "    df = m.datacollector.get_agent_vars_dataframe()\n",
    "    df['truth'] = t\n",
    "    df['f_rate'] = f\n",
    "    df['run'] = run\n",
    "    main = pd.concat([main, df])"
   ]
  },
  {
   "cell_type": "markdown",
   "id": "8d9d1478-388a-42df-8b1d-2e73d3e24ea0",
   "metadata": {},
   "source": [
    "#### More-patience"
   ]
  },
  {
   "cell_type": "code",
   "execution_count": 15,
   "id": "cecbdb27",
   "metadata": {},
   "outputs": [],
   "source": [
    "main = pd.DataFrame()\n",
    "\n",
    "for run in range(1):\n",
    "    t = random.choice(np.round(np.arange(0, 1.001, 1/5), 2))\n",
    "    f = 1\n",
    "    m = PatientModel(t, f)\n",
    "    for i in range(50):\n",
    "        m.step()\n",
    "    # Begin assessing peers after 50 time steps\n",
    "    m.activate()\n",
    "    for i in range(50):\n",
    "        m.step()\n",
    "    df = m.datacollector.get_agent_vars_dataframe()\n",
    "    df['truth'] = t\n",
    "    df['f_rate'] = f\n",
    "    df['run'] = run\n",
    "    main = pd.concat([main, df])"
   ]
  },
  {
   "cell_type": "code",
   "execution_count": 45,
   "id": "0ff7a066",
   "metadata": {},
   "outputs": [],
   "source": [
    "main.dropna(inplace=True)\n",
    "main.to_csv('test.csv')"
   ]
  }
 ],
 "metadata": {
  "kernelspec": {
   "display_name": "Python 3 (ipykernel)",
   "language": "python",
   "name": "python3"
  },
  "language_info": {
   "codemirror_mode": {
    "name": "ipython",
    "version": 3
   },
   "file_extension": ".py",
   "mimetype": "text/x-python",
   "name": "python",
   "nbconvert_exporter": "python",
   "pygments_lexer": "ipython3",
   "version": "3.11.5"
  }
 },
 "nbformat": 4,
 "nbformat_minor": 5
}
